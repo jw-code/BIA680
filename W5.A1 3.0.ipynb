{
 "cells": [
  {
   "cell_type": "code",
   "execution_count": 1,
   "id": "ae808dd2",
   "metadata": {
    "scrolled": true
   },
   "outputs": [
    {
     "name": "stderr",
     "output_type": "stream",
     "text": [
      "<ipython-input-1-ecc9fa58a726>:20: SettingWithCopyWarning: \n",
      "A value is trying to be set on a copy of a slice from a DataFrame.\n",
      "Try using .loc[row_indexer,col_indexer] = value instead\n",
      "\n",
      "See the caveats in the documentation: https://pandas.pydata.org/pandas-docs/stable/user_guide/indexing.html#returning-a-view-versus-a-copy\n",
      "  df['sex_int']=df['sex'].map(lambda x: 1 if x==\"male\" else 0)\n"
     ]
    }
   ],
   "source": [
    "# import necessary libraries\n",
    "\n",
    "import pandas as pd\n",
    "import numpy as np\n",
    "from sklearn.model_selection import train_test_split\n",
    "\n",
    "# import CSV files and concatenate into one DataFrame\n",
    "\n",
    "df = pd.read_csv(\"titanic.csv\")\n",
    "df2 = pd.read_csv(\"titanic2.csv\")\n",
    "frames = [df, df2]\n",
    "full_df = pd.concat(frames)\n",
    "\n",
    "# remove null values from the features being used for the models\n",
    "\n",
    "df = full_df[(full_df.sex.isnull() == False) & (full_df.survived.isnull() == False) & (full_df.pclass.isnull() == False)]\n",
    "\n",
    "# Encode 'sex' column as 1 (male) or 0 (female)\n",
    "\n",
    "df['sex_int']=df['sex'].map(lambda x: 1 if x==\"male\" else 0)\n",
    "\n",
    "Xtrain = df[['sex_int', 'pclass']]\n",
    "ytrain = df[['survived']]\n",
    "\n",
    "# Split the data into training and test sets\n",
    "\n",
    "X_train, X_test, y_train, y_test = train_test_split(Xtrain, ytrain, test_size = 0.3, random_state=42)"
   ]
  },
  {
   "cell_type": "code",
   "execution_count": 2,
   "id": "56f3c521",
   "metadata": {},
   "outputs": [
    {
     "name": "stdout",
     "output_type": "stream",
     "text": [
      "the shape of X is:  (922, 3)\n",
      "the shape of y is:  (922, 1)\n",
      "the shape of X2 is:  (396, 3)\n",
      "the shape of y2 is:  (396, 1)\n"
     ]
    }
   ],
   "source": [
    "# Sigmoid function\n",
    "\n",
    "def sigmoid(z): \n",
    "    '''\n",
    "    Input:\n",
    "        z: is the input (can be a scalar or an array)\n",
    "    Output:\n",
    "        h: the sigmoid of z\n",
    "    '''\n",
    "    \n",
    "\n",
    "    # calculate the sigmoid of z\n",
    "    h = 1 / (1+np.exp(-z))\n",
    "\n",
    "    \n",
    "    return h\n",
    "\n",
    "# Gradient descent function\n",
    "\n",
    "def gradientDescent(x, y, theta, alpha, num_iters):\n",
    "    '''\n",
    "    Input:\n",
    "        x: matrix of features which is (m,n+1)\n",
    "        y: corresponding labels of the input matrix x, dimensions (m,1)\n",
    "        theta: weight vector of dimension (n+1,1)\n",
    "        alpha: learning rate\n",
    "        num_iters: number of iterations you want to train your model for\n",
    "    Output:\n",
    "        J: the final cost\n",
    "        theta: your final weight vector\n",
    "    '''\n",
    "    m = x.shape[0]\n",
    "    \n",
    "    for i in range(0, num_iters):\n",
    "        \n",
    "        # get z, the dot product of x and theta\n",
    "        z = np.dot(x, theta)\n",
    "        \n",
    "        # get the sigmoid of z\n",
    "        h = sigmoid(z)\n",
    "        \n",
    "        # calculate the cost function\n",
    "        J = (-1./m)*(np.dot(np.transpose(y),np.log(h))+np.dot(np.transpose(1-y),np.log(1-h)))\n",
    "        if i%100==0:\n",
    "            print(\"cost is: \",J)\n",
    "\n",
    "        # update the weights theta\n",
    "        theta = theta - (alpha / m)*np.dot((np.transpose(x)),(h-y))\n",
    "        \n",
    "    J = float(J)\n",
    "    return J, theta\n",
    "\n",
    "# Testing logistic regression function\n",
    "\n",
    "def test_logistic_regression(test_x, test_y,theta):\n",
    "    \"\"\"\n",
    "    Input: \n",
    "        test_x: a list of individuals\n",
    "        test_y: (m, 1) vector with the corresponding labels for the list of individuals\n",
    "        theta: weight vector of dimension (3, 1)\n",
    "    Output: \n",
    "        accuracy: (# of individuals classified correctly) / (total # of individuals)\n",
    "    \"\"\"\n",
    "    # the list for storing predictions\n",
    "    y_hat = []\n",
    "    \n",
    "    # get the label prediction for the individual\n",
    "    y_pred = sigmoid(np.dot(test_x, theta))\n",
    "    \n",
    "    print(y_pred.shape)\n",
    "    \n",
    "    m = test_y.shape[0]\n",
    "    y_hat = 1.0*(y_pred.reshape(m,) > 0.5)\n",
    "\n",
    "    accuracy = (np.sum(y_hat==test_y.reshape(m,))) / (m)\n",
    "\n",
    "    ### END CODE HERE ###\n",
    "    \n",
    "    return accuracy, y_hat\n",
    "\n",
    "# Design matrices\n",
    "\n",
    "X = np.hstack([np.ones((len(X_train),1)), X_train])\n",
    "y = y_train.values\n",
    "print(\"the shape of X is: \", X.shape)\n",
    "print(\"the shape of y is: \", y.shape)\n",
    "X2 = np.hstack([np.ones((len(X_test),1)), X_test])\n",
    "y2 = y_test.values\n",
    "print(\"the shape of X2 is: \", X2.shape)\n",
    "print(\"the shape of y2 is: \", y2.shape)"
   ]
  },
  {
   "cell_type": "code",
   "execution_count": 3,
   "id": "bf01cba8",
   "metadata": {},
   "outputs": [
    {
     "name": "stdout",
     "output_type": "stream",
     "text": [
      "cost is:  [[0.69314718]]\n",
      "cost is:  [[0.62906472]]\n",
      "cost is:  [[0.61819191]]\n",
      "cost is:  [[0.60970555]]\n",
      "cost is:  [[0.60194932]]\n",
      "cost is:  [[0.59480409]]\n",
      "cost is:  [[0.58821396]]\n",
      "cost is:  [[0.58212978]]\n",
      "cost is:  [[0.5765067]]\n",
      "cost is:  [[0.57130385]]\n",
      "cost is:  [[0.56648406]]\n",
      "cost is:  [[0.56201356]]\n",
      "cost is:  [[0.55786174]]\n",
      "cost is:  [[0.55400083]]\n",
      "cost is:  [[0.55040569]]\n",
      "The cost after training is 0.54708595.\n",
      "The resulting vector of weights is [0.46625384, -1.06035342, -0.19290598]\n"
     ]
    }
   ],
   "source": [
    "# training labels corresponding to X\n",
    "\n",
    "X = X\n",
    "Y = y\n",
    "\n",
    "# Apply gradient descent\n",
    "\n",
    "alpha= 0.01\n",
    "iters= 1500\n",
    "\n",
    "J, theta = gradientDescent(X, Y, np.zeros((3, 1)), alpha, iters)\n",
    "print(f\"The cost after training is {J:.8f}.\")\n",
    "print(f\"The resulting vector of weights is {[round(t, 8) for t in np.squeeze(theta)]}\")"
   ]
  },
  {
   "cell_type": "code",
   "execution_count": 4,
   "id": "cf5ff478",
   "metadata": {},
   "outputs": [
    {
     "name": "stdout",
     "output_type": "stream",
     "text": [
      "(396, 1)\n",
      "Logistic regression model's accuracy = 0.78282828\n"
     ]
    }
   ],
   "source": [
    "tmp_accuracy, y_hat = test_logistic_regression(X2, y2, theta)\n",
    "print(f\"Logistic regression model's accuracy = {tmp_accuracy:.8f}\")"
   ]
  },
  {
   "cell_type": "markdown",
   "id": "a816ab06",
   "metadata": {},
   "source": [
    "## Decision Tree"
   ]
  },
  {
   "cell_type": "code",
   "execution_count": 5,
   "id": "a0607cd9",
   "metadata": {},
   "outputs": [],
   "source": [
    "subprocess_dir = r'C:\\Users\\Josh\\OneDrive - smumn.edu\\School\\BIA 680 Python for Artificial Intelligence\\Week 5'\n",
    "from six import StringIO\n",
    "from IPython.display import Image, display\n",
    "from sklearn.tree import export_graphviz\n",
    "import pydotplus\n",
    "from sklearn import tree\n",
    "import subprocess\n",
    "import os\n",
    "\n",
    "os.environ[\"PATH\"] += os.pathsep + r'C:\\Users\\Josh\\Anaconda3\\Library\\bin\\graphviz'"
   ]
  },
  {
   "cell_type": "code",
   "execution_count": 6,
   "id": "3196e036",
   "metadata": {},
   "outputs": [
    {
     "name": "stdout",
     "output_type": "stream",
     "text": [
      "digraph Tree {\n",
      "node [shape=box, style=\"filled, rounded\", color=\"black\", fontname=helvetica] ;\n",
      "edge [fontname=helvetica] ;\n",
      "0 [label=<sex_int &le; 0.5<br/>gini = 0.472<br/>samples = 922<br/>value = [570, 352]>, fillcolor=\"#f5cfb3\"] ;\n",
      "1 [label=<pclass &le; 2.5<br/>gini = 0.385<br/>samples = 323<br/>value = [84, 239]>, fillcolor=\"#7fbfee\"] ;\n",
      "0 -> 1 [labeldistance=2.5, labelangle=45, headlabel=\"True\"] ;\n",
      "2 [label=<gini = 0.118<br/>samples = 175<br/>value = [11, 164]>, fillcolor=\"#46a4e7\"] ;\n",
      "1 -> 2 ;\n",
      "3 [label=<gini = 0.5<br/>samples = 148<br/>value = [73, 75]>, fillcolor=\"#fafcfe\"] ;\n",
      "1 -> 3 ;\n",
      "4 [label=<pclass &le; 1.5<br/>gini = 0.306<br/>samples = 599<br/>value = [486, 113]>, fillcolor=\"#eb9e67\"] ;\n",
      "0 -> 4 [labeldistance=2.5, labelangle=-45, headlabel=\"False\"] ;\n",
      "5 [label=<gini = 0.439<br/>samples = 126<br/>value = [85, 41]>, fillcolor=\"#f2be99\"] ;\n",
      "4 -> 5 ;\n",
      "6 [label=<gini = 0.258<br/>samples = 473<br/>value = [401, 72]>, fillcolor=\"#ea985d\"] ;\n",
      "4 -> 6 ;\n",
      "}\n",
      "<class 'pydotplus.graphviz.Dot'>\n"
     ]
    },
    {
     "data": {
      "image/png": "[encoded data removed]",
      "text/plain": [
       "<IPython.core.display.Image object>"
      ]
     },
     "metadata": {},
     "output_type": "display_data"
    },
    {
     "name": "stdout",
     "output_type": "stream",
     "text": [
      "<class 'str'>\n"
     ]
    }
   ],
   "source": [
    "def build_decision_tree(maxdepth,minsamplesleaf,train_X,train_y,subprocess_dir):\n",
    "    dt = tree.DecisionTreeClassifier(max_depth=maxdepth, min_samples_leaf=minsamplesleaf) \n",
    "                                     #presort=True\n",
    "                                     #max_leaf_nodes=5, \n",
    "                                     #class_weight=None )\n",
    "    X_train_dt = train_X\n",
    "    y_train_dt = train_y\n",
    "    var = X_train_dt.columns.values\n",
    "    dt.fit(X_train_dt, y_train_dt)\n",
    "    dot_data = StringIO()\n",
    "    dotfile='tree.dot'\n",
    "    export_graphviz(dt, out_file=dot_data,  \n",
    "                filled=True, rounded=True,\n",
    "                special_characters=True,feature_names=var)\n",
    "    print(dot_data.getvalue())\n",
    "    #above creates an xml / dot file of the fitted tree\n",
    "    graph = pydotplus.graph_from_dot_data(dot_data.getvalue())  \n",
    "    print(type(graph))\n",
    "    display(Image(graph.create_png()))\n",
    "    graph.write_png('tree.png')\n",
    "    print(type(dot_data.getvalue()))\n",
    "    fh = open(dotfile, 'w')  \n",
    "    fh.write(dot_data.getvalue())  \n",
    "    fh.close()  \n",
    "    graph2 = pydotplus.graph_from_dot_file('tree.dot')\n",
    "    return graph2, dt\n",
    "    #the above subprocess runs the dot.exe executable file, which \n",
    "    #takes as input the tree.dot word file and outputs a tree diagram into \n",
    "    #the pngfile - tree.png file in our current directory\n",
    "graph, dt=build_decision_tree(2,100,X_train,y_train,subprocess_dir)"
   ]
  },
  {
   "cell_type": "code",
   "execution_count": 7,
   "id": "697f761d",
   "metadata": {},
   "outputs": [],
   "source": [
    "predictions=dt.predict(X2[:,1:]) "
   ]
  },
  {
   "cell_type": "code",
   "execution_count": 8,
   "id": "69ab1f19",
   "metadata": {},
   "outputs": [
    {
     "data": {
      "text/plain": [
       "(396,)"
      ]
     },
     "execution_count": 8,
     "metadata": {},
     "output_type": "execute_result"
    }
   ],
   "source": [
    "predictions.shape"
   ]
  },
  {
   "cell_type": "code",
   "execution_count": 9,
   "id": "40517ffc",
   "metadata": {},
   "outputs": [
    {
     "data": {
      "text/plain": [
       "(396, 1)"
      ]
     },
     "execution_count": 9,
     "metadata": {},
     "output_type": "execute_result"
    }
   ],
   "source": [
    "y2.shape"
   ]
  },
  {
   "cell_type": "code",
   "execution_count": 11,
   "id": "40161bf5",
   "metadata": {},
   "outputs": [
    {
     "name": "stdout",
     "output_type": "stream",
     "text": [
      "Decision tree model's accuracy = 0.76515152\n"
     ]
    }
   ],
   "source": [
    "#obtain the accuracy of the tree model on training data and compare against Logistic Regression:\n",
    "tree_accuracy=np.sum(predictions==y2.reshape(396,)) / len(predictions)\n",
    "print(f\"Decision tree model's accuracy = {tree_accuracy:.8f}\")"
   ]
  },
  {
   "cell_type": "markdown",
   "id": "f2a56c56",
   "metadata": {},
   "source": [
    "### 3. Compare performance of the two models: which one has higher accuracy on the training and test sets? Which one has higher bias and which one has higher variance / over fitting?"
   ]
  },
  {
   "cell_type": "markdown",
   "id": "c4953ef5",
   "metadata": {},
   "source": [
    "The models from the lecture notes that were trained on the entire dataset had a slightly higher accuracy (0.78376328) than the logistic regression and decision tree models using the split dataset (0.78282828 for LR, 0.76515152 for DT). The models trained on the entire dataset are likely over fitted. This is expected because of using the entire dataset, so when the data is split into training and test sets, we should usually expect the accuracy to be lower when testing on test data. This also means the variance is higher when testing on the test data."
   ]
  }
 ],
 "metadata": {
  "kernelspec": {
   "display_name": "Python 3",
   "language": "python",
   "name": "python3"
  },
  "language_info": {
   "codemirror_mode": {
    "name": "ipython",
    "version": 3
   },
   "file_extension": ".py",
   "mimetype": "text/x-python",
   "name": "python",
   "nbconvert_exporter": "python",
   "pygments_lexer": "ipython3",
   "version": "3.8.8"
  }
 },
 "nbformat": 4,
 "nbformat_minor": 5
}
